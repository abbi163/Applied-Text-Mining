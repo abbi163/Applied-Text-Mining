{
  "nbformat": 4,
  "nbformat_minor": 0,
  "metadata": {
    "colab": {
      "name": "Week1.ipynb",
      "version": "0.3.2",
      "provenance": [],
      "collapsed_sections": [],
      "include_colab_link": true
    },
    "kernelspec": {
      "name": "python3",
      "display_name": "Python 3"
    }
  },
  "cells": [
    {
      "cell_type": "markdown",
      "metadata": {
        "id": "view-in-github",
        "colab_type": "text"
      },
      "source": [
        "<a href=\"https://colab.research.google.com/github/abbi163/Applied-Text-Mining/blob/master/Week1.ipynb\" target=\"_parent\"><img src=\"https://colab.research.google.com/assets/colab-badge.svg\" alt=\"Open In Colab\"/></a>"
      ]
    },
    {
      "metadata": {
        "id": "nobMUg7eU5hU",
        "colab_type": "text"
      },
      "cell_type": "markdown",
      "source": [
        "**What can be done with Text Data **\n",
        "\n",
        "\n",
        "*  Parse Text\n",
        "*  Find/Identify/Extract relevant information from the text\n",
        "* Classify text document\n",
        "* Search for relevant text document (Information Retrival)\n",
        "* Sentiment Analysis\n",
        "* Topic Modelling\n",
        "\n"
      ]
    },
    {
      "metadata": {
        "id": "fS275bk8XVTQ",
        "colab_type": "text"
      },
      "cell_type": "markdown",
      "source": [
        "**Primitive Constructs in Text !! **\n",
        "\n",
        "\n",
        "1.   Sentence\n",
        "2.   Words or Tokens\n",
        "3.   Characters\n",
        "4.   Document | Large Files\n",
        "\n",
        "\n",
        "\n",
        "\n",
        "\n",
        "\n",
        "\n"
      ]
    },
    {
      "metadata": {
        "id": "wdJHpn21U7Nk",
        "colab_type": "code",
        "colab": {}
      },
      "cell_type": "code",
      "source": [
        "text1 = 'If you want to build a solid structure, you need to put down the first few blocks in the right place.'"
      ],
      "execution_count": 0,
      "outputs": []
    },
    {
      "metadata": {
        "id": "SoLptFTvX4MI",
        "colab_type": "code",
        "outputId": "7bf60208-c0a4-445c-9f1d-c68c1d059dc4",
        "colab": {
          "base_uri": "https://localhost:8080/",
          "height": 51
        }
      },
      "cell_type": "code",
      "source": [
        "# len of text1 will tell the length of characters in text1\n",
        "print('total characters in text1 is :', len(text1))\n",
        "\n",
        "# for finding the number of words in the text1 we split the sentence on space. \n",
        "\n",
        "text2 = text1.split(' ')\n",
        "print('total words in text 1 is:', len(text2))"
      ],
      "execution_count": 0,
      "outputs": [
        {
          "output_type": "stream",
          "text": [
            "total characters in text1 is : 101\n",
            "total words in text 1 is: 21\n"
          ],
          "name": "stdout"
        }
      ]
    },
    {
      "metadata": {
        "id": "6Mwson7KX9Sv",
        "colab_type": "code",
        "outputId": "f1cc48b2-bcfc-419f-a5a3-a1493128cd2a",
        "colab": {
          "base_uri": "https://localhost:8080/",
          "height": 374
        }
      },
      "cell_type": "code",
      "source": [
        "text2"
      ],
      "execution_count": 0,
      "outputs": [
        {
          "output_type": "execute_result",
          "data": {
            "text/plain": [
              "['If',\n",
              " 'you',\n",
              " 'want',\n",
              " 'to',\n",
              " 'build',\n",
              " 'a',\n",
              " 'solid',\n",
              " 'structure,',\n",
              " 'you',\n",
              " 'need',\n",
              " 'to',\n",
              " 'put',\n",
              " 'down',\n",
              " 'the',\n",
              " 'first',\n",
              " 'few',\n",
              " 'blocks',\n",
              " 'in',\n",
              " 'the',\n",
              " 'right',\n",
              " 'place.']"
            ]
          },
          "metadata": {
            "tags": []
          },
          "execution_count": 6
        }
      ]
    },
    {
      "metadata": {
        "id": "MCdLuRwHZNiC",
        "colab_type": "text"
      },
      "cell_type": "markdown",
      "source": [
        "**Finding Specific word ! Long word which are more than 3 character long !!**"
      ]
    },
    {
      "metadata": {
        "id": "JFPekRwFY_qQ",
        "colab_type": "code",
        "outputId": "cd580935-d390-4ed1-aaac-8f0444478c00",
        "colab": {
          "base_uri": "https://localhost:8080/",
          "height": 187
        }
      },
      "cell_type": "code",
      "source": [
        "# List is an output here !\n",
        "[ word for word in text2 if len(word) > 3 ]  "
      ],
      "execution_count": 0,
      "outputs": [
        {
          "output_type": "execute_result",
          "data": {
            "text/plain": [
              "['want',\n",
              " 'build',\n",
              " 'solid',\n",
              " 'structure,',\n",
              " 'need',\n",
              " 'down',\n",
              " 'first',\n",
              " 'blocks',\n",
              " 'right',\n",
              " 'place.']"
            ]
          },
          "metadata": {
            "tags": []
          },
          "execution_count": 13
        }
      ]
    },
    {
      "metadata": {
        "id": "cFI-2tEKaBzj",
        "colab_type": "text"
      },
      "cell_type": "markdown",
      "source": [
        "**Finding Capital Letter Words. **"
      ]
    },
    {
      "metadata": {
        "id": "X5D990IdZhxY",
        "colab_type": "code",
        "outputId": "6db0693e-c9a3-494a-8a85-3269930192a5",
        "colab": {
          "base_uri": "https://localhost:8080/",
          "height": 34
        }
      },
      "cell_type": "code",
      "source": [
        "[word for word in text2 if word.istitle()]"
      ],
      "execution_count": 0,
      "outputs": [
        {
          "output_type": "execute_result",
          "data": {
            "text/plain": [
              "['If']"
            ]
          },
          "metadata": {
            "tags": []
          },
          "execution_count": 14
        }
      ]
    },
    {
      "metadata": {
        "id": "juaGEcMdacwb",
        "colab_type": "text"
      },
      "cell_type": "markdown",
      "source": [
        "**Words that ends with s**"
      ]
    },
    {
      "metadata": {
        "id": "Q1alxRFUZyhu",
        "colab_type": "code",
        "outputId": "f895bccc-bfcb-4f4a-831e-2147256d9def",
        "colab": {
          "base_uri": "https://localhost:8080/",
          "height": 34
        }
      },
      "cell_type": "code",
      "source": [
        "[word for word in text2 if word.endswith('ks')]"
      ],
      "execution_count": 0,
      "outputs": [
        {
          "output_type": "execute_result",
          "data": {
            "text/plain": [
              "['blocks']"
            ]
          },
          "metadata": {
            "tags": []
          },
          "execution_count": 16
        }
      ]
    },
    {
      "metadata": {
        "id": "a8T7LtvnbEo-",
        "colab_type": "text"
      },
      "cell_type": "markdown",
      "source": [
        "**Finding unique words**"
      ]
    },
    {
      "metadata": {
        "id": "C-tRBh2wapdZ",
        "colab_type": "code",
        "outputId": "90f07409-6d32-4728-d52b-f8d352877980",
        "colab": {
          "base_uri": "https://localhost:8080/",
          "height": 51
        }
      },
      "cell_type": "code",
      "source": [
        "# Unique Words \n",
        "\n",
        "text3 = 'To be or not to be'\n",
        "\n",
        "# set function is used to find the unique words in the sentence !!\n",
        "\n",
        "# First we split the words and then we find if it's unique or not !\n",
        "text4 = text3.split(' ')\n",
        "print('After Separating the words:' , text4)\n",
        "\n",
        "# Finding unique words in Text3\n",
        "\n",
        "print('Unique words in Text 3:', set(text4))\n"
      ],
      "execution_count": 0,
      "outputs": [
        {
          "output_type": "stream",
          "text": [
            "After Separating the words: ['To', 'be', 'or', 'not', 'to', 'be']\n",
            "Unique words in Text 3: {'To', 'to', 'not', 'be', 'or'}\n"
          ],
          "name": "stdout"
        }
      ]
    },
    {
      "metadata": {
        "id": "MuD-lDRCcLWs",
        "colab_type": "text"
      },
      "cell_type": "markdown",
      "source": [
        "Here, it's considering 'To' and 'to' as 2 separate word as one starts with capital letter and another starts with small letter. "
      ]
    },
    {
      "metadata": {
        "id": "5fqIB3BccKiD",
        "colab_type": "code",
        "outputId": "04ba3b5d-601b-41ba-d318-7371c4d9b27f",
        "colab": {
          "base_uri": "https://localhost:8080/",
          "height": 34
        }
      },
      "cell_type": "code",
      "source": [
        "# fixing it\n",
        "\n",
        "set([word.lower() for word in text4])"
      ],
      "execution_count": 0,
      "outputs": [
        {
          "output_type": "execute_result",
          "data": {
            "text/plain": [
              "{'be', 'not', 'or', 'to'}"
            ]
          },
          "metadata": {
            "tags": []
          },
          "execution_count": 23
        }
      ]
    },
    {
      "metadata": {
        "id": "5cc1cQ0gc-Lm",
        "colab_type": "text"
      },
      "cell_type": "markdown",
      "source": [
        "**Some word comparision function ! **\n",
        "\n",
        "\n",
        "1.   s.startswith(t)\n",
        "2.   s.endswith(t)\n",
        "3.   t in s \n",
        "4.   s.isupper() , s.islower(), s.istitle()\n",
        "5.   s.isalpha(), s.isdigit(), s.isalnum()\n",
        "6.   s.upper(), s.lower(), s.titlecase()\n",
        "7.   s.split(t), s.splitlines()\n",
        "8.   s.join(t)\n",
        "9.   Cleaning operations : s.strip(), s.rstrip()\n",
        "10. Finding substring: s.find(t), s.rfind(t)\n",
        "11. Replacing u from v: s.replace(u,v)\n",
        "\n"
      ]
    },
    {
      "metadata": {
        "id": "8Xgwqgy3bLU3",
        "colab_type": "code",
        "colab": {}
      },
      "cell_type": "code",
      "source": [
        ""
      ],
      "execution_count": 0,
      "outputs": []
    }
  ]
}